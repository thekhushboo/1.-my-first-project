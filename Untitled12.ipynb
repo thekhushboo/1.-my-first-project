{
 "cells": [
  {
   "cell_type": "code",
   "execution_count": 6,
   "id": "5871dfe2-fbb6-40e9-9ac8-2c4121c5adb2",
   "metadata": {},
   "outputs": [
    {
     "name": "stdout",
     "output_type": "stream",
     "text": [
      "\n",
      "\n",
      "TIC TAC TOE GAME\n",
      "\n",
      "\n",
      "1 | 2 | 3 \n",
      "------------\n",
      " 4 | 5 | 6 \n",
      "------------\n",
      " 7 | 8 | 9 \n",
      "player x :"
     ]
    },
    {
     "name": "stdin",
     "output_type": "stream",
     "text": [
      " 1\n"
     ]
    },
    {
     "name": "stdout",
     "output_type": "stream",
     "text": [
      "\n",
      "\n",
      "TIC TAC TOE GAME\n",
      "\n",
      "\n",
      "x | 2 | 3 \n",
      "------------\n",
      " 4 | 5 | 6 \n",
      "------------\n",
      " 7 | 8 | 9 \n",
      "player x :"
     ]
    },
    {
     "name": "stdin",
     "output_type": "stream",
     "text": [
      " 2\n"
     ]
    },
    {
     "name": "stdout",
     "output_type": "stream",
     "text": [
      "\n",
      "\n",
      "TIC TAC TOE GAME\n",
      "\n",
      "\n",
      "x | x | 3 \n",
      "------------\n",
      " 4 | 5 | 6 \n",
      "------------\n",
      " 7 | 8 | 9 \n",
      "player x :"
     ]
    },
    {
     "name": "stdin",
     "output_type": "stream",
     "text": [
      " 3\n"
     ]
    },
    {
     "name": "stdout",
     "output_type": "stream",
     "text": [
      "\n",
      "\n",
      "player x win!\n",
      " x | x | x \n",
      "------------\n",
      " 4 | 5 | 6 \n",
      "------------\n",
      " 7 | 8 | 9 \n"
     ]
    }
   ],
   "source": [
    "# TIC TAC TOE GAME\n",
    "place=[1,2,3,4,5,6,7,8,9]\n",
    "player=\"x\"\n",
    "choice=0\n",
    "list1=[]\n",
    "while(len(list1)!=9):\n",
    "    print(\"\\n\\nTIC TAC TOE GAME\\n\\n\")\n",
    "    print(\"{} | {} | {} \".format(place[0],place[1],place[2]))\n",
    "    print(\"------------\")\n",
    "    print(\" {} | {} | {} \".format(place[3],place[4],place[5]))\n",
    "    print(\"------------\")\n",
    "    print(\" {} | {} | {} \".format(place[6],place[7],place[8]))\n",
    "    print(\"player\",player,\":\",end= \"\")\n",
    "    choice=int(input())\n",
    "    \n",
    "    if(choice not in list1 and choice>0 and choice<10):\n",
    "        list1.append(choice)\n",
    "        place[choice-1]=player\n",
    "        if( (place[0]==place[1] and place[1]==place[2]) or (place[3]==place[4] and place[4]==place[5]) \n",
    "        or (place[6]==place[7] and place[7]==place[8] or (place[0]==place[3] and place[3]==place[6]) \n",
    "        or (place[1]==place[4] and place[4]==place[7]) or (place[2]==place[5] and place[5] and place[5]==place[8]) or (place[0]==place[4] and place[4]==place[8]) or (place[2]==place[4] and place[4]==place[6]) )):\n",
    "            print(\"\\n\\nplayer \"+player+\" win!\")\n",
    "            print(\" {} | {} | {} \".format(place[0],place[1],place[2] ))\n",
    "            print(\"------------\")\n",
    "            print(\" {} | {} | {} \".format(place[3],place[4],place[5] ))\n",
    "            print(\"------------\")\n",
    "            print(\" {} | {} | {} \".format(place[6],place[7],place[8] ))\n",
    "            break\n",
    "            if(player==\"x\"):\n",
    "                player=\"0\"\n",
    "            else:\n",
    "                player=\"x\"\n",
    "    else:\n",
    "        print(\"\\n\\nITS A DRAW MATCH!\")\n",
    "            \n",
    "    \n",
    "        \n",
    "\n",
    "\n"
   ]
  },
  {
   "cell_type": "code",
   "execution_count": null,
   "id": "c403e9d3-ec9e-4ea1-b8b1-c3745347c7a3",
   "metadata": {},
   "outputs": [],
   "source": []
  }
 ],
 "metadata": {
  "kernelspec": {
   "display_name": "Python 3 (ipykernel)",
   "language": "python",
   "name": "python3"
  },
  "language_info": {
   "codemirror_mode": {
    "name": "ipython",
    "version": 3
   },
   "file_extension": ".py",
   "mimetype": "text/x-python",
   "name": "python",
   "nbconvert_exporter": "python",
   "pygments_lexer": "ipython3",
   "version": "3.12.7"
  }
 },
 "nbformat": 4,
 "nbformat_minor": 5
}

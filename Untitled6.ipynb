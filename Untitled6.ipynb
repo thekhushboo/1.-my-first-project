{
 "cells": [
  {
   "cell_type": "code",
   "execution_count": null,
   "id": "4876461e-f3ef-4425-89e1-2def57131168",
   "metadata": {},
   "outputs": [],
   "source": [
    "# web scraping project\n",
    "import requests\n",
    "from bs4 import BeautifulSoup"
   ]
  },
  {
   "cell_type": "code",
   "execution_count": null,
   "id": "3efef321-730d-427a-9457-c51bb1ec351b",
   "metadata": {},
   "outputs": [],
   "source": [
    "urls = [\"https://www.myg.in/mobile-phones/vivo/vivo-x200-5g-12-gb-ram-256-gb-cosmos-black/ \")\n"
   ]
  },
  {
   "cell_type": "code",
   "execution_count": null,
   "id": "08b340ab-a9cb-460f-bb9f-88f39e43fecf",
   "metadata": {},
   "outputs": [],
   "source": [
    "def extract(url):\n",
    "   \n",
    "webpage = requests.get(url)\n",
    "   web = webpage.content\n",
    "   soup = BeautifulSoup(web,\"html.parser\")\n",
    "   value = soup.find(\"span\",{\"id\":\"sec_discounted_price_26243\"})\n",
    "   print(value.text)\n"
   ]
  },
  {
   "cell_type": "code",
   "execution_count": null,
   "id": "af5445af-dd6f-4498-9c3a-cbfc738360c8",
   "metadata": {},
   "outputs": [],
   "source": [
    "extract(urls[0])"
   ]
  },
  {
   "cell_type": "code",
   "execution_count": null,
   "id": "819f1eb3-7eb4-41b0-9332-de7e75b2ed67",
   "metadata": {},
   "outputs": [],
   "source": [
    "# second \n",
    " urls = [\"https://www.flipkart.com/samsung-galaxy-m35-5g-moonlight-blue-128-gb/p/itm94360d23ec184?pid=MOBH2Z8ZTPKMZ9FV&lid=LSTMOBH2Z8ZTPKMZ9FVUKJMYM&marketplace=FLIPKART&fm=neo%2Fmerchandising&iid=M_f097558b-7cbf-49bb-89c2-a51d443884bd_1_1BUWY8OBA8L9_MC.MOBH2Z8ZTPKMZ9FV&ppt=clp&ppn=mobile-phones-store&ssid=4fyhbag0xc0000001734580381435&otracker=clp_pmu_v2_Latest%2BSamsung%2Bmobiles%2B_4_1.productCard.PMU_V2_SAMSUNG%2BGalaxy%2BM35%2B5G%2B%2528Moonlight%2BBlue%252C%2B128%2BGB%2529_samsung-mobile-store_MOBH2Z8ZTPKMZ9FV_neo%2Fmerchandising_3&otracker1=clp_pmu_v2_PINNED_neo%2Fmerchandising_Latest%2BSamsung%2Bmobiles%2B_LIST_productCard_cc_4_NA_view-all&cid=MOBH2Z8ZTPKMZ9FV/\"]\n"
   ]
  },
  {
   "cell_type": "code",
   "execution_count": null,
   "id": "150f8420-7a97-4786-8785-f3dd684f9a16",
   "metadata": {},
   "outputs": [],
   "source": [
    "def extract(url):\n",
    "    webpage = requests.get(url)\n",
    "    web = webpage.content\n",
    "    soup = BeautifulSoup(web,\"html.parser\")\n",
    "    value = soup.find(\"div\",{\"class\":\"Nx9bqj CxhGGd yKS4la\"})\n",
    "    print(value.text)\n",
    "    \n",
    "extract(urls[0])"
   ]
  },
  {
   "cell_type": "code",
   "execution_count": null,
   "id": "6455b01e-cabb-428d-a20a-3260b74726de",
   "metadata": {},
   "outputs": [],
   "source": [
    "# 3rd \n",
    "urls=[\"https://www.meesho.com/kurti/p/7aym0f\",\"https://www.meesho.com/classy-feminine-women-tops-tunics/p/4r0b85\"]"
   ]
  },
  {
   "cell_type": "code",
   "execution_count": null,
   "id": "a0ea6d8e-c626-4dd9-a81a-9522ddba295d",
   "metadata": {},
   "outputs": [],
   "source": [
    "def extract(url):\n",
    "    webpage=requests.get(url)\n",
    "    web=webpage.content\n",
    "    soup=BeautifulSoup(web,\"html.parser\")\n",
    "    value=soup.find(\"h4\",{\"class\":\"sc-eDvSVe biMVPh\",})\n",
    "    print(value.text)\n",
    "\n",
    "[extract(url) for url in urls]"
   ]
  },
  {
   "cell_type": "code",
   "execution_count": null,
   "id": "9840f07e-5b95-498a-bf17-b664261dc2f1",
   "metadata": {},
   "outputs": [],
   "source": []
  }
 ],
 "metadata": {
  "kernelspec": {
   "display_name": "Python 3 (ipykernel)",
   "language": "python",
   "name": "python3"
  },
  "language_info": {
   "codemirror_mode": {
    "name": "ipython",
    "version": 3
   },
   "file_extension": ".py",
   "mimetype": "text/x-python",
   "name": "python",
   "nbconvert_exporter": "python",
   "pygments_lexer": "ipython3",
   "version": "3.12.7"
  }
 },
 "nbformat": 4,
 "nbformat_minor": 5
}

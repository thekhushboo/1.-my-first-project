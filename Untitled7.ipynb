{
 "cells": [
  {
   "cell_type": "code",
   "execution_count": 5,
   "id": "7a0fac87-dba7-40fa-bbce-2a939b33ed82",
   "metadata": {},
   "outputs": [],
   "source": [
    "# A PROJECT REPORT ON SALES\n",
    "import pandas as pd\n",
    "import matplotlib.pyplot as plt"
   ]
  },
  {
   "cell_type": "code",
   "execution_count": 6,
   "id": "b54557ef-ebb8-4268-adc4-3d8e8fa0e6c0",
   "metadata": {},
   "outputs": [
    {
     "data": {
      "text/html": [
       "<div>\n",
       "<style scoped>\n",
       "    .dataframe tbody tr th:only-of-type {\n",
       "        vertical-align: middle;\n",
       "    }\n",
       "\n",
       "    .dataframe tbody tr th {\n",
       "        vertical-align: top;\n",
       "    }\n",
       "\n",
       "    .dataframe thead th {\n",
       "        text-align: right;\n",
       "    }\n",
       "</style>\n",
       "<table border=\"1\" class=\"dataframe\">\n",
       "  <thead>\n",
       "    <tr style=\"text-align: right;\">\n",
       "      <th></th>\n",
       "      <th>Segment</th>\n",
       "      <th>Country</th>\n",
       "      <th>Product</th>\n",
       "      <th>Discount Band</th>\n",
       "      <th>Units Sold</th>\n",
       "      <th>Manufacturing Price</th>\n",
       "      <th>Sale Price</th>\n",
       "      <th>Gross Sales</th>\n",
       "      <th>Discounts</th>\n",
       "      <th>Sales</th>\n",
       "      <th>COGS</th>\n",
       "      <th>Profit</th>\n",
       "      <th>Date</th>\n",
       "      <th>Month Number</th>\n",
       "      <th>Month Name</th>\n",
       "      <th>Year</th>\n",
       "    </tr>\n",
       "  </thead>\n",
       "  <tbody>\n",
       "    <tr>\n",
       "      <th>0</th>\n",
       "      <td>Government</td>\n",
       "      <td>Canada</td>\n",
       "      <td>Carretera</td>\n",
       "      <td>NaN</td>\n",
       "      <td>1618.5</td>\n",
       "      <td>3</td>\n",
       "      <td>20.0</td>\n",
       "      <td>32370.0</td>\n",
       "      <td>0.0</td>\n",
       "      <td>32370.0</td>\n",
       "      <td>16185.0</td>\n",
       "      <td>16185.0</td>\n",
       "      <td>2014-01-01</td>\n",
       "      <td>1</td>\n",
       "      <td>January</td>\n",
       "      <td>2014</td>\n",
       "    </tr>\n",
       "    <tr>\n",
       "      <th>1</th>\n",
       "      <td>Government</td>\n",
       "      <td>Germany</td>\n",
       "      <td>Carretera</td>\n",
       "      <td>NaN</td>\n",
       "      <td>1321.0</td>\n",
       "      <td>3</td>\n",
       "      <td>20.0</td>\n",
       "      <td>26420.0</td>\n",
       "      <td>0.0</td>\n",
       "      <td>26420.0</td>\n",
       "      <td>13210.0</td>\n",
       "      <td>13210.0</td>\n",
       "      <td>2014-01-01</td>\n",
       "      <td>1</td>\n",
       "      <td>January</td>\n",
       "      <td>2014</td>\n",
       "    </tr>\n",
       "    <tr>\n",
       "      <th>2</th>\n",
       "      <td>Midmarket</td>\n",
       "      <td>France</td>\n",
       "      <td>Carretera</td>\n",
       "      <td>NaN</td>\n",
       "      <td>2178.0</td>\n",
       "      <td>3</td>\n",
       "      <td>15.0</td>\n",
       "      <td>32670.0</td>\n",
       "      <td>0.0</td>\n",
       "      <td>32670.0</td>\n",
       "      <td>21780.0</td>\n",
       "      <td>10890.0</td>\n",
       "      <td>2014-06-01</td>\n",
       "      <td>6</td>\n",
       "      <td>June</td>\n",
       "      <td>2014</td>\n",
       "    </tr>\n",
       "  </tbody>\n",
       "</table>\n",
       "</div>"
      ],
      "text/plain": [
       "      Segment  Country    Product Discount Band  Units Sold  \\\n",
       "0  Government   Canada  Carretera           NaN      1618.5   \n",
       "1  Government  Germany  Carretera           NaN      1321.0   \n",
       "2   Midmarket   France  Carretera           NaN      2178.0   \n",
       "\n",
       "   Manufacturing Price  Sale Price  Gross Sales  Discounts    Sales     COGS  \\\n",
       "0                    3        20.0      32370.0        0.0  32370.0  16185.0   \n",
       "1                    3        20.0      26420.0        0.0  26420.0  13210.0   \n",
       "2                    3        15.0      32670.0        0.0  32670.0  21780.0   \n",
       "\n",
       "    Profit       Date  Month Number Month Name  Year  \n",
       "0  16185.0 2014-01-01             1    January  2014  \n",
       "1  13210.0 2014-01-01             1    January  2014  \n",
       "2  10890.0 2014-06-01             6       June  2014  "
      ]
     },
     "execution_count": 6,
     "metadata": {},
     "output_type": "execute_result"
    }
   ],
   "source": [
    "df=pd.read_excel(\"C:/Users/Khushboo/Desktop/Financial_Sample.xlsx \")\n",
    "df.head(3)"
   ]
  },
  {
   "cell_type": "code",
   "execution_count": 7,
   "id": "46d97bbb-68d2-43a2-9969-4ad18a237d7d",
   "metadata": {},
   "outputs": [
    {
     "name": "stdout",
     "output_type": "stream",
     "text": [
      "<class 'pandas.core.frame.DataFrame'>\n",
      "RangeIndex: 700 entries, 0 to 699\n",
      "Data columns (total 16 columns):\n",
      " #   Column               Non-Null Count  Dtype         \n",
      "---  ------               --------------  -----         \n",
      " 0   Segment              692 non-null    object        \n",
      " 1   Country              689 non-null    object        \n",
      " 2   Product              692 non-null    object        \n",
      " 3   Discount Band        638 non-null    object        \n",
      " 4   Units Sold           695 non-null    float64       \n",
      " 5   Manufacturing Price  700 non-null    int64         \n",
      " 6   Sale Price           693 non-null    float64       \n",
      " 7   Gross Sales          695 non-null    float64       \n",
      " 8   Discounts            695 non-null    float64       \n",
      " 9    Sales               700 non-null    float64       \n",
      " 10  COGS                 700 non-null    float64       \n",
      " 11  Profit               700 non-null    float64       \n",
      " 12  Date                 700 non-null    datetime64[ns]\n",
      " 13  Month Number         700 non-null    int64         \n",
      " 14  Month Name           700 non-null    object        \n",
      " 15  Year                 700 non-null    int64         \n",
      "dtypes: datetime64[ns](1), float64(7), int64(3), object(5)\n",
      "memory usage: 87.6+ KB\n"
     ]
    }
   ],
   "source": [
    "df.info()"
   ]
  },
  {
   "cell_type": "code",
   "execution_count": 8,
   "id": "46625ea1-0335-4395-924e-a4b2b1dbf397",
   "metadata": {},
   "outputs": [
    {
     "data": {
      "text/plain": [
       "Segment                 8\n",
       "Country                11\n",
       "Product                 8\n",
       "Discount Band          62\n",
       "Units Sold              5\n",
       "Manufacturing Price     0\n",
       "Sale Price              7\n",
       "Gross Sales             5\n",
       "Discounts               5\n",
       " Sales                  0\n",
       "COGS                    0\n",
       "Profit                  0\n",
       "Date                    0\n",
       "Month Number            0\n",
       "Month Name              0\n",
       "Year                    0\n",
       "dtype: int64"
      ]
     },
     "execution_count": 8,
     "metadata": {},
     "output_type": "execute_result"
    }
   ],
   "source": [
    "df.isnull().sum()"
   ]
  },
  {
   "cell_type": "code",
   "execution_count": 9,
   "id": "a4abddde-a793-450f-8f16-2c88299d0a0b",
   "metadata": {},
   "outputs": [
    {
     "data": {
      "text/plain": [
       "0.9910714285714285"
      ]
     },
     "execution_count": 9,
     "metadata": {},
     "output_type": "execute_result"
    }
   ],
   "source": [
    "# 4 object columns having null values\n",
    "# 4 float64 coloums having null values\n",
    "df.isnull().sum().sum()/df.size*100\n",
    "# only 1% data is null (almost)"
   ]
  },
  {
   "cell_type": "code",
   "execution_count": 10,
   "id": "f48fc128-cab1-4f0d-93fe-8a964508a85a",
   "metadata": {},
   "outputs": [
    {
     "data": {
      "text/plain": [
       "Segment           8\n",
       "Country          11\n",
       "Product           8\n",
       "Discount Band    62\n",
       "Month Name        0\n",
       "dtype: int64"
      ]
     },
     "execution_count": 10,
     "metadata": {},
     "output_type": "execute_result"
    }
   ],
   "source": [
    "df.select_dtypes(include=\"object\").isnull().sum()"
   ]
  },
  {
   "cell_type": "code",
   "execution_count": 11,
   "id": "a770276b-2f01-466b-9ad4-3400397b4151",
   "metadata": {},
   "outputs": [
    {
     "data": {
      "text/plain": [
       "Segment          0\n",
       "Country          0\n",
       "Product          0\n",
       "Discount Band    0\n",
       "Month Name       0\n",
       "dtype: int64"
      ]
     },
     "execution_count": 11,
     "metadata": {},
     "output_type": "execute_result"
    }
   ],
   "source": [
    "# replace null values of objects by mode values\n",
    "def fillobj(obj):\n",
    "    df[obj]=df[obj].fillna(df[obj].mode()[0])\n",
    "for obj in df.select_dtypes(include=\"object\"):\n",
    "    fillobj(obj)\n",
    "df.select_dtypes(include=\"object\").isnull().sum()\n",
    "    "
   ]
  },
  {
   "cell_type": "code",
   "execution_count": 12,
   "id": "0a136729-085b-4465-8f6d-e9c0ae536ba2",
   "metadata": {},
   "outputs": [
    {
     "data": {
      "text/plain": [
       "Units Sold     5\n",
       "Sale Price     7\n",
       "Gross Sales    5\n",
       "Discounts      5\n",
       " Sales         0\n",
       "COGS           0\n",
       "Profit         0\n",
       "dtype: int64"
      ]
     },
     "execution_count": 12,
     "metadata": {},
     "output_type": "execute_result"
    }
   ],
   "source": [
    "df.select_dtypes(include=\"float64\").isnull().sum()"
   ]
  },
  {
   "cell_type": "code",
   "execution_count": 13,
   "id": "aae38198-5b7e-4b63-b4ad-a05c2eb5d44b",
   "metadata": {},
   "outputs": [
    {
     "data": {
      "text/plain": [
       "Units Sold     0\n",
       "Sale Price     0\n",
       "Gross Sales    0\n",
       "Discounts      0\n",
       " Sales         0\n",
       "COGS           0\n",
       "Profit         0\n",
       "dtype: int64"
      ]
     },
     "execution_count": 13,
     "metadata": {},
     "output_type": "execute_result"
    }
   ],
   "source": [
    "# replace null values of objects by mean values\n",
    "def fillobj(obj):\n",
    "    df[obj]=df[obj].fillna(df[obj].mean())\n",
    "for obj in df.select_dtypes(include=\"float64\"):\n",
    "    fillobj(obj)\n",
    "df.select_dtypes(include=\"float64\").isnull().sum()\n",
    "    "
   ]
  },
  {
   "cell_type": "code",
   "execution_count": 14,
   "id": "5c12aa96-48ab-4d12-aeea-27078edcd22d",
   "metadata": {},
   "outputs": [
    {
     "data": {
      "text/plain": [
       "0"
      ]
     },
     "execution_count": 14,
     "metadata": {},
     "output_type": "execute_result"
    }
   ],
   "source": [
    "# total null value in the dataframe?\n",
    "df.isnull().sum().sum()"
   ]
  },
  {
   "cell_type": "code",
   "execution_count": 15,
   "id": "e675d49f-e335-4a78-b2c1-656625e19800",
   "metadata": {},
   "outputs": [
    {
     "data": {
      "text/html": [
       "<div>\n",
       "<style scoped>\n",
       "    .dataframe tbody tr th:only-of-type {\n",
       "        vertical-align: middle;\n",
       "    }\n",
       "\n",
       "    .dataframe tbody tr th {\n",
       "        vertical-align: top;\n",
       "    }\n",
       "\n",
       "    .dataframe thead th {\n",
       "        text-align: right;\n",
       "    }\n",
       "</style>\n",
       "<table border=\"1\" class=\"dataframe\">\n",
       "  <thead>\n",
       "    <tr style=\"text-align: right;\">\n",
       "      <th></th>\n",
       "      <th>Segment</th>\n",
       "      <th>Country</th>\n",
       "      <th>Product</th>\n",
       "      <th>Discount Band</th>\n",
       "      <th>Units Sold</th>\n",
       "      <th>Manufacturing Price</th>\n",
       "      <th>Sale Price</th>\n",
       "      <th>Gross Sales</th>\n",
       "      <th>Discounts</th>\n",
       "      <th>Sales</th>\n",
       "      <th>COGS</th>\n",
       "      <th>Profit</th>\n",
       "      <th>Date</th>\n",
       "      <th>Month Number</th>\n",
       "      <th>Month Name</th>\n",
       "      <th>Year</th>\n",
       "    </tr>\n",
       "  </thead>\n",
       "  <tbody>\n",
       "    <tr>\n",
       "      <th>0</th>\n",
       "      <td>Government</td>\n",
       "      <td>Canada</td>\n",
       "      <td>Carretera</td>\n",
       "      <td>High</td>\n",
       "      <td>1618.5</td>\n",
       "      <td>3</td>\n",
       "      <td>20.0</td>\n",
       "      <td>32370.0</td>\n",
       "      <td>0.0</td>\n",
       "      <td>32370.0</td>\n",
       "      <td>16185.0</td>\n",
       "      <td>16185.0</td>\n",
       "      <td>2014-01-01</td>\n",
       "      <td>1</td>\n",
       "      <td>January</td>\n",
       "      <td>2014</td>\n",
       "    </tr>\n",
       "    <tr>\n",
       "      <th>1</th>\n",
       "      <td>Government</td>\n",
       "      <td>Germany</td>\n",
       "      <td>Carretera</td>\n",
       "      <td>High</td>\n",
       "      <td>1321.0</td>\n",
       "      <td>3</td>\n",
       "      <td>20.0</td>\n",
       "      <td>26420.0</td>\n",
       "      <td>0.0</td>\n",
       "      <td>26420.0</td>\n",
       "      <td>13210.0</td>\n",
       "      <td>13210.0</td>\n",
       "      <td>2014-01-01</td>\n",
       "      <td>1</td>\n",
       "      <td>January</td>\n",
       "      <td>2014</td>\n",
       "    </tr>\n",
       "    <tr>\n",
       "      <th>2</th>\n",
       "      <td>Midmarket</td>\n",
       "      <td>France</td>\n",
       "      <td>Carretera</td>\n",
       "      <td>High</td>\n",
       "      <td>2178.0</td>\n",
       "      <td>3</td>\n",
       "      <td>15.0</td>\n",
       "      <td>32670.0</td>\n",
       "      <td>0.0</td>\n",
       "      <td>32670.0</td>\n",
       "      <td>21780.0</td>\n",
       "      <td>10890.0</td>\n",
       "      <td>2014-06-01</td>\n",
       "      <td>6</td>\n",
       "      <td>June</td>\n",
       "      <td>2014</td>\n",
       "    </tr>\n",
       "  </tbody>\n",
       "</table>\n",
       "</div>"
      ],
      "text/plain": [
       "      Segment  Country    Product Discount Band  Units Sold  \\\n",
       "0  Government   Canada  Carretera          High      1618.5   \n",
       "1  Government  Germany  Carretera          High      1321.0   \n",
       "2   Midmarket   France  Carretera          High      2178.0   \n",
       "\n",
       "   Manufacturing Price  Sale Price  Gross Sales  Discounts    Sales     COGS  \\\n",
       "0                    3        20.0      32370.0        0.0  32370.0  16185.0   \n",
       "1                    3        20.0      26420.0        0.0  26420.0  13210.0   \n",
       "2                    3        15.0      32670.0        0.0  32670.0  21780.0   \n",
       "\n",
       "    Profit       Date  Month Number Month Name  Year  \n",
       "0  16185.0 2014-01-01             1    January  2014  \n",
       "1  13210.0 2014-01-01             1    January  2014  \n",
       "2  10890.0 2014-06-01             6       June  2014  "
      ]
     },
     "execution_count": 15,
     "metadata": {},
     "output_type": "execute_result"
    }
   ],
   "source": [
    "df.head(3)"
   ]
  },
  {
   "cell_type": "code",
   "execution_count": 16,
   "id": "dc07f3aa-56b7-4e40-9dee-abc3b638d6de",
   "metadata": {},
   "outputs": [
    {
     "data": {
      "text/plain": [
       "array(['January', 'June', 'December', 'March', 'July', 'August',\n",
       "       'September', 'October', 'February', 'November', 'April', 'May'],\n",
       "      dtype=object)"
      ]
     },
     "execution_count": 16,
     "metadata": {},
     "output_type": "execute_result"
    }
   ],
   "source": [
    "df[\"Month Name\"].unique()"
   ]
  },
  {
   "cell_type": "code",
   "execution_count": 21,
   "id": "e5e5a959-8534-44d0-9179-fb304f8a3771",
   "metadata": {},
   "outputs": [
    {
     "data": {
      "text/plain": [
       "['Jan', 'Feb', 'Mar', 'Apr', 'Jun', 'Jul', 'Aug', 'Sep', 'Oct', 'Nov', 'Dec']"
      ]
     },
     "execution_count": 21,
     "metadata": {},
     "output_type": "execute_result"
    }
   ],
   "source": [
    "# x values of ploting\n",
    "xmonth=['January','February','March','April''May','June','July','August',\n",
    "        'September','October','November','December']\n",
    "for index in range(0,len(xmonth)):\n",
    "    xmonth[index]=xmonth[index][0:3]\n",
    "xmonth\n",
    "    \n"
   ]
  },
  {
   "cell_type": "code",
   "execution_count": 24,
   "id": "24a05fa2-3951-42bc-9f60-1db423a43baf",
   "metadata": {},
   "outputs": [
    {
     "data": {
      "text/plain": [
       "[7463290.542446043,\n",
       " 7874444.042446043,\n",
       " 6124026.0,\n",
       " 7429392.5,\n",
       " 10268972.0,\n",
       " 8833027.5,\n",
       " 6325959.0,\n",
       " 11575053.0,\n",
       " 23308784.042446043,\n",
       " 14289884.042446043,\n",
       " 18516186.042446043]"
      ]
     },
     "execution_count": 24,
     "metadata": {},
     "output_type": "execute_result"
    }
   ],
   "source": [
    "# ye values for ploating (calculating profit by months)\n",
    "Yprofit=[]\n",
    "YGS=[]\n",
    "for mon in xmonth:\n",
    "    totalProfit=0\n",
    "    totalGS=0\n",
    "    for index in range(0,df.shape[0]):\n",
    "        if(df[\"Month Name\"][index][0:3]==mon):\n",
    "            totalProfit=totalProfit+df[\"Profit\"][index]\n",
    "        if(df[\"Month Name\"][index][0:3]==mon):\n",
    "            totalGS=totalGS+df[\"Gross Sales\"][index]\n",
    "    Yprofit.append(totalProfit)\n",
    "    YGS.append(totalGS)\n",
    "    \n",
    "Yprofit\n",
    "YGS"
   ]
  },
  {
   "cell_type": "code",
   "execution_count": 26,
   "id": "33d102b0-ba7b-4b8c-9192-873f3a49913b",
   "metadata": {},
   "outputs": [
    {
     "data": {
      "image/png": "[encoded data removed]",
      "text/plain": [
       "<Figure size 640x480 with 2 Axes>"
      ]
     },
     "metadata": {},
     "output_type": "display_data"
    }
   ],
   "source": [
    "plt.subplot(2,1,1)\n",
    "plt.bar(xmonth,Yprofit)\n",
    "plt.title(\"Profit By Months\")\n",
    "plt.subplot(2,1,2)\n",
    "plt.bar(xmonth,YGS)\n",
    "plt.title(\"Gross Sale By Months\")\n",
    "plt.show()"
   ]
  },
  {
   "cell_type": "code",
   "execution_count": 27,
   "id": "921ce176-73e0-4abe-b2d9-6972af203190",
   "metadata": {},
   "outputs": [
    {
     "data": {
      "image/png": "[encoded data removed]",
      "text/plain": [
       "<Figure size 640x480 with 1 Axes>"
      ]
     },
     "metadata": {},
     "output_type": "display_data"
    }
   ],
   "source": [
    "# profit percentage\n",
    "profit=sum(Yprofit)/sum(YGS)*100\n",
    "Expence=100-profit\n",
    "plt.pie([profit,Expence])\n",
    "plt.title(\"Profit And Expence\")\n",
    "plt.show()"
   ]
  },
  {
   "cell_type": "code",
   "execution_count": null,
   "id": "c2785948-022e-43a9-997e-a492efd1991e",
   "metadata": {},
   "outputs": [],
   "source": []
  },
  {
   "cell_type": "code",
   "execution_count": null,
   "id": "4b9cf9cb-6a54-4707-bd65-d0a4a0698482",
   "metadata": {},
   "outputs": [],
   "source": []
  },
  {
   "cell_type": "code",
   "execution_count": null,
   "id": "e5bc09ad-027b-4fb4-afe8-bcd3f3ef8fa4",
   "metadata": {},
   "outputs": [],
   "source": []
  }
 ],
 "metadata": {
  "kernelspec": {
   "display_name": "Python 3 (ipykernel)",
   "language": "python",
   "name": "python3"
  },
  "language_info": {
   "codemirror_mode": {
    "name": "ipython",
    "version": 3
   },
   "file_extension": ".py",
   "mimetype": "text/x-python",
   "name": "python",
   "nbconvert_exporter": "python",
   "pygments_lexer": "ipython3",
   "version": "3.12.7"
  }
 },
 "nbformat": 4,
 "nbformat_minor": 5
}
